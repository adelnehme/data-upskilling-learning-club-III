{
  "nbformat": 4,
  "nbformat_minor": 0,
  "metadata": {
    "colab": {
      "name": "Data UpSkilling Learning Club: Data Visualization with Python.ipynb",
      "provenance": [],
      "collapsed_sections": []
    },
    "kernelspec": {
      "name": "python3",
      "display_name": "Python 3"
    }
  },
  "cells": [
    {
      "cell_type": "markdown",
      "metadata": {
        "id": "51k97pmXGoud"
      },
      "source": [
        "<p align=\"center\">\n",
        "<img src=\"https://github.com/adelnehme/data-upskilling-learning-club-III/blob/master/assets/datacamp_amazon.png?raw=True\" alt = \"DataCamp icon\" width=\"80%\">\n",
        "</p>\n",
        "<br><br>\n",
        "\n",
        "## **Data UpSkilling Learning Club: Data Visualization with Python**\n",
        "\n",
        "### **Key session takeaways**\n",
        "\n",
        "* Create various types of plots using Seaborn and Matplotlib\n",
        "* Format and stylize visualizations to make them report-ready\n",
        "* Create sub-plots to create clearer visualizations and supercharge your workflow\n",
        "\n",
        "### **The Dataset**\n",
        "\n",
        "The dataset to be used in this webinar is a CSV file named `employee_churn_trimmed.csv`, which contains data on employees attrition rates.\n",
        "\n",
        "- `Age`: Employee Age.\n",
        "- `Attrition`: Did they churn or no? (`Churned`, `Stayed`).\n",
        "- `DistanceFromHome`: Distance of office from Employee home in Km.\n",
        "- `Education`: Degree of college education (`'Bellow College'`, `'College'`, `'Bachelor's degree'`, `'Master's degree'`, `'PhD'`).\n",
        "- `EducationField`: Field of study.\n",
        "- `Gender`: Gender of employee (`'Male'`, `'Female'`).\n",
        "- `MonthlyIncome`: Monthly Income in USD $.\n",
        "- `PercentSalaryHike`: % increase in salary last year.\n",
        "- `PerformanceRating`: Rating of Employee Performance (`Low`, `Good`, `Great`, `Excellent`).\n",
        "- `YearsAtCompany`: Number of years spent at company.\n",
        "- `EnvironmentSatisfaction`: Rating of Employee Satisfaciton with work environment (`Low`, `Good`, `Great`, `Excellent`).\n",
        "- `JobInvolvement`: Rating of Employee Job Involvement (`Low`, `Good`, `Great`, `Excellent`).\n",
        "- `JobSatisfaction`: Rating of Employee Job Satisfaction (`Low`, `Good`, `Great`, `Excellent`).\n",
        "- `RelationshipSatisfaction`: Rating of Employee Relationships Satisfaction (`Low`, `Good`, `Great`, `Excellent`).\n",
        "- `WorklifeBalance`: Rating of Employee Work life balance Satisfaction (`Low`, `Good`, `Great`, `Excellent`).\n",
        "\n",
        "### **Visualizations to make**\n",
        "\n",
        "- **Visualization #1:** The distribution of employee age\n",
        "- **Visualization #2:** What is the education level of our employees by gender?\n",
        "- **Visualization #3:** How does salary levels affect Attrition across different levels of experience?\n",
        "- **Visualization #4:** Does Age affect Attrition?\n",
        "- **Visualization #5:** Does Age or Distance from home affect Attrition?\n",
        "- **Visualization #6:** Does age, distance from home, years at company or percent salary hike affect Attrition?\n"
      ]
    },
    {
      "cell_type": "code",
      "metadata": {
        "id": "MAr8qh67GqVN"
      },
      "source": [
        "# Importing relevant packages with their ali\n",
        "import pandas as pd \n",
        "import matplotlib\n",
        "import matplotlib.pyplot as plt\n",
        "import seaborn as sns"
      ],
      "execution_count": null,
      "outputs": []
    },
    {
      "cell_type": "code",
      "metadata": {
        "id": "XbfDVTQyMlDF"
      },
      "source": [
        "# Read data\n",
        "employee_churn = pd.read_csv('https://github.com/adelnehme/data-upskilling-learning-club-III/blob/master/data/employee_churned_trimmed.csv?raw=true', index_col = 0)"
      ],
      "execution_count": null,
      "outputs": []
    },
    {
      "cell_type": "code",
      "metadata": {
        "id": "VyRWjumVhhjK"
      },
      "source": [
        "# Print header of DataFrame\n"
      ],
      "execution_count": null,
      "outputs": []
    },
    {
      "cell_type": "markdown",
      "metadata": {
        "id": "w5jUdXC572Og"
      },
      "source": [
        "<br>\n",
        "<br>\n",
        "\n",
        "----\n",
        "\n",
        "#### **Data Visualization Basics I:** _The anatomy of a_ `matplotlib` _figure_\n",
        "\n",
        ">\n",
        "> When using a simple `matplotlib` or `seaborn` function like `plt.plot(my_data)`, what `matplotlib` is doing is creating three nested objects in the background. \n",
        ">\n",
        "> * The **figure** object, which could be considered as the canvas-holder, or an object containing all possible axes (plots).\n",
        ">    * The **axes** object(s), which could be considered as the canvas(es), or the plot where we will be adding our visualizations.\n",
        ">       * Everything that makes up the plot.\n",
        ">\n",
        "<p align=\"center\">\n",
        "<img src=\"https://github.com/adelnehme/intro-to-data-visualization-Python-live-training/blob/master/images/stages_plot.png?raw=true\" width=\"65%\">\n",
        "</p>\n",
        "\n",
        "\n",
        "> - The **figure**, houses in the axes _(which is 1 since it's only one plot)_. \n",
        ">    - The **axes** _(Empty plot)_  \n",
        ">        - Everything that makes up the plot _(Blue line)_\n",
        "<p align=\"center\">\n",
        "<img src=\"https://github.com/adelnehme/intro-to-data-visualization-Python-live-training/blob/master/images/fig.gif?raw=true\" width=\"55%\">\n",
        "</p>\n"
      ]
    },
    {
      "cell_type": "markdown",
      "metadata": {
        "id": "_eW-wA2pk7b_"
      },
      "source": [
        "#### **Visualization #1: The distribution of employee age**\n",
        "\n",
        "A great visualization for understanding the distribution of one numerical variable, could be the distribution plot.\n",
        "\n",
        "- `sns.displot(..., color = \"\", kde = True)` — **documentation can be found [here](https://seaborn.pydata.org/generated/seaborn.displot.html).**\n",
        "\n",
        "  - `color` lets you pick the color of the plot.\n",
        "  - `kde` lets you visualize the density estimate.\n",
        "\n",
        "_**Some helper functions used**:_\n",
        "\n",
        "- `plt.axvline(x, ymin = 0, ymax = 1, linestyle)` lets you add a vertical line to your plot — **documentation can be found [here](https://matplotlib.org/3.3.2/api/_as_gen/matplotlib.pyplot.axvline.html).**\n",
        "  - `x`, `ymin` and `ymax` let you place your line.\n",
        "  - `linestyle` lets you format your line.\n",
        "- `plt.xlabel()` adds label for x-axis.\n",
        "- `plt.ylabel()` adds label for y-axis.\n",
        "- `plt.title()` adds title\n"
      ]
    },
    {
      "cell_type": "code",
      "metadata": {
        "id": "jem4rspxflAh"
      },
      "source": [
        "# Set initial plot options\n",
        "sns.set_style('white')\n",
        "\n",
        "# Create plot\n",
        "\n",
        "# Add vertical line\n",
        "\n",
        "# Add finishing touches\n"
      ],
      "execution_count": null,
      "outputs": []
    },
    {
      "cell_type": "markdown",
      "metadata": {
        "id": "C0VfymiEt6p6"
      },
      "source": [
        "---\n",
        "<center><h1> Q&A 1</h1> </center>\n",
        "\n",
        "---"
      ]
    },
    {
      "cell_type": "markdown",
      "metadata": {
        "id": "gzu0XkXmWGQX"
      },
      "source": [
        "#### **Visualization #2: What is the education level of our employees by gender?**\n",
        "\n",
        "A great way to count the distribution of categorical data, is a countplot that can be done as such:\n",
        "\n",
        "- `sns.countplot(x= , hue= , data= , order=, palette= , alpha=)` — **documentation can be found [here](https://seaborn.pydata.org/generated/seaborn.countplot.html).**\n",
        "  - `x` is the categorical variable we want to count and `order` lets us set the order of categories visualized\n",
        "  - `hue` a column we want to group by and categorize by in our visualization \n",
        "  - `data` our data source\n",
        "  - `order` lets us order our `x` categories\n",
        "  - `palette` and `alpha` let us set color by hue and its transparency\n",
        "\n",
        "_**Some helper functions used**:_\n",
        "\n",
        "- `plt.text(x, y, s)` lets you add text to your plot — **documentation can be found [here](https://matplotlib.org/3.1.1/api/_as_gen/matplotlib.pyplot.text.html).**\n",
        "  - `x`, `y` let you place your text.\n",
        "  - `s` is the text being written. "
      ]
    },
    {
      "cell_type": "code",
      "metadata": {
        "id": "hlNxZrwxVe2d"
      },
      "source": [
        "# Store number of male and female employees\n",
        "male_employees = len(employee_churn[employee_churn['Gender']=='Male'])\n",
        "female_employees = len(employee_churn[employee_churn['Gender']=='Female'])"
      ],
      "execution_count": null,
      "outputs": []
    },
    {
      "cell_type": "code",
      "metadata": {
        "id": "vX7KHcHnUkRZ"
      },
      "source": [
        "# Set initial plot options\n",
        "sns.set_style('white')\n",
        "plt.figure(figsize = (12, 8))\n",
        "\n",
        "# Create a countplot\n",
        "\n",
        "\n",
        "# Add number of female and employees as text to the plot\n",
        "\n",
        "\n",
        "\n",
        "# Add finishing touches\n"
      ],
      "execution_count": null,
      "outputs": []
    },
    {
      "cell_type": "markdown",
      "metadata": {
        "id": "L93SjWkFueJi"
      },
      "source": [
        "---\n",
        "<center><h1> Q&A 2</h1> </center>\n",
        "\n",
        "---"
      ]
    },
    {
      "cell_type": "markdown",
      "metadata": {
        "id": "a3qf8DJGWgH1"
      },
      "source": [
        "#### **Visualization #3: How does salary levels affect churn across different levels of experience?**\n",
        "\n",
        "One of the most common visualizations to use is a lineplot, which just draws the relationship between two variables as a line. We can do it with:\n",
        "\n",
        "- `sns.lineplot(x= , y=, hue=, data=, style =, palette=, size=, markers=, ci =)` — **documentation can be found [here](https://seaborn.pydata.org/generated/seaborn.lineplot.html).**\n",
        "  - `x`, `y` are column names used on `x` and `y` axis. \n",
        "  - `hue` lets us group by a different column and `style` lets you adjust line style by categories in a column. \n",
        "  - `palette` and `markers` and `ci` control color, whether to add points to your lines, and whether to add a confidence interval to your line.\n",
        "\n",
        "_**Some helper functions used**:_\n",
        "\n",
        "- `plt.text(x, y, s, fontsize, style)` lets you add text to your plot\n",
        "  - `x`, `y` let you place your text.\n",
        "  - `s` is the text being written. \n",
        "  - `fontsize` controls for fontsize\n",
        "  - `style` lets you control text style (i.e. `'italic'`)\n",
        "  - `bbox` lets you create a bounding box around the text\n",
        "\n"
      ]
    },
    {
      "cell_type": "code",
      "metadata": {
        "id": "Sch80GJAWanc"
      },
      "source": [
        "# Set initial plot options\n",
        "sns.set_style('white')\n",
        "plt.figure(figsize = (18, 8))\n",
        "\n",
        "# Create a lineplot\n",
        "\n",
        "\n",
        "# Add text to elaborate on plot insights\n",
        "\n",
        "\n",
        "# Final formatting\n"
      ],
      "execution_count": null,
      "outputs": []
    },
    {
      "cell_type": "markdown",
      "metadata": {
        "id": "z855UUVbulsA"
      },
      "source": [
        "---\n",
        "<center><h1> Q&A 3</h1> </center>\n",
        "\n",
        "---"
      ]
    },
    {
      "cell_type": "markdown",
      "metadata": {
        "id": "Ed2OLuk0x6Ui"
      },
      "source": [
        "#### **Visualization #4: Does Age affect Attrition?**\n",
        "\n",
        "A great way to observe the differences between two groups (or categories) of data according to a numeric value is a boxplot, which visualizes the following:\n",
        "\n",
        "<p align=\"left\">\n",
        "<img src=\"https://github.com/adelnehme/intro-to-data-visualization-Python-live-training/blob/master/images/boxplot.png?raw=true\" alt = \"DataCamp icon\" width=\"80%\">\n",
        "</p>\n",
        "\n",
        "It can be visualized using:\n",
        "\n",
        "- `sns.boxplot(x=, y=, data=, order=, width=, palette=)` — **documentation can be found [here](https://seaborn.pydata.org/generated/seaborn.boxplot.html)**\n",
        "  - `x` is the categorical variable we want to group our data by and `order` lets us set the order categories visualized.\n",
        "  - `y` is the data being observed by group.\n",
        "  - `width` determines the width of the box\n",
        "  - `palette` determines color. "
      ]
    },
    {
      "cell_type": "code",
      "metadata": {
        "id": "zjZHaEpDm9Bb"
      },
      "source": [
        "# Set style\n",
        "sns.set_style('white')\n",
        "\n",
        "# Create a boxplot visualizing Attrition by Age\n",
        "\n",
        "\n",
        "# Add finishing touches\n",
        "\n"
      ],
      "execution_count": null,
      "outputs": []
    },
    {
      "cell_type": "markdown",
      "metadata": {
        "id": "x8Hez89Br3Ef"
      },
      "source": [
        "<br>\n",
        "<br>\n",
        "\n",
        "----\n",
        "\n",
        "#### **Data Visualization Basics II:** _Subplots and multiple axes_\n",
        "\n",
        "> \n",
        "> One of the defining features of creating visualizations with `matplotlib`, is the great level of control offered to create multiple plots at once. As discussed earlier, generating a plot neccessitates the creation of 3 hierarchical objects:\n",
        "> \n",
        "> * The **figure** object, which could be considered as the canvas-holder, or an object containing all possible axes (plots).\n",
        ">    * The **axes** object(s), which could be considered as the canvas(es), or the plot where we will be adding our visualizations.\n",
        ">       * Everything that makes up the plot.\n",
        "> \n",
        "> Creating a figure with multiple subplots (axes) is easy, and can be referenced with the following:\n",
        "> \n",
        "> `figure, axes = plt.subplot(nrows = , ncols = , figsize = ...) ` \n",
        "> \n",
        "> Where we generate a `figure` object and its `axes`. A `figure` can be divided into a grid of rows and columns, where each \"cell\" in our rows and columns is an axes and we can plot something inside of it. \n",
        "> \n",
        "\n",
        "<p align=\"center\">\n",
        "<img src=\"https://github.com/adelnehme/intro-to-data-visualization-Python-live-training/blob/master/images/subplots.gif?raw=true\" width=\"55%\">\n",
        "</p>\n",
        "\n",
        "> For example, `figure, axes = plt.subplots(1, 2)` creates a figure with 2 subplots side by side. The `axes` object is a numpy array where each element is a pointer to an `axes`.\n",
        "> \n",
        ">\n",
        ">```\n",
        ">figure, axes = plt.subplots(1, 2)\n",
        ">\n",
        ">print(axes)\n",
        ">```\n",
        ">```\n",
        ">[<matplotlib.axes._subplots.AxesSubplot object at 0x7fd0a058acf8>,\n",
        ">  <matplotlib.axes._subplots.AxesSubplot object at 0x7fd0a053a748>]\n",
        ">```\n",
        ">\n",
        "> To create visualiations inside of an `axes`, most visualization functions have an `ax` arguments that lets us decide which visualization belongs on which axes. \n",
        "> \n",
        "> We can customize the contents of the plot in each `axes` by using `axes` methods that almost the same or similar to how we use helper functions with `plt`. To customize the first `axes` in the example plot above, we use the following: \n",
        "> \n",
        "> - `plt.xlabel()` --> `axes[0].set_xlabel()`\n",
        "> - `plt.text()` --> `axes[0].text()`\n",
        "> \n",
        "_There's no need to memorize syntax here or the differences between both `plt` and `axes` methods, just know that the difference exists._"
      ]
    },
    {
      "cell_type": "markdown",
      "metadata": {
        "id": "H_EXaI_Gr_3X"
      },
      "source": [
        "#### **Visualization #5: Does Age or Distance from home affect Attrition?**"
      ]
    },
    {
      "cell_type": "code",
      "metadata": {
        "id": "4k0SIbNxWJqW",
        "outputId": "80a18fa1-5fda-4fd1-ce8e-37ef8ad1a47f",
        "colab": {
          "base_uri": "https://localhost:8080/",
          "height": 513
        }
      },
      "source": [
        "# Set initial plot options\n",
        "sns.set_style('white')\n",
        "\n",
        "# Create subplots\n",
        "\n",
        "# Create a boxplot for Age in the first subplot\n",
        "\n",
        "\n",
        "# Customize first subplot\n",
        "\n",
        "# Create a boxplot for DistanceFromHome in the second subplot\n",
        "\n",
        "# Customize second subplot\n",
        "\n"
      ],
      "execution_count": null,
      "outputs": [
        {
          "output_type": "display_data",
          "data": {
            "image/png": "[encoded data removed]",
            "text/plain": [
              "<Figure size 1584x576 with 2 Axes>"
            ]
          },
          "metadata": {
            "tags": []
          }
        }
      ]
    },
    {
      "cell_type": "markdown",
      "metadata": {
        "id": "ADJ2Ah3FvNiq"
      },
      "source": [
        "---\n",
        "<center><h1> Q&A 4</h1> </center>\n",
        "\n",
        "---"
      ]
    },
    {
      "cell_type": "markdown",
      "metadata": {
        "id": "b-xpCg6UsD4K"
      },
      "source": [
        "#### **Visualization #6: Does age, distance from home, years at company or percent salary hike affect Attrition?**"
      ]
    },
    {
      "cell_type": "code",
      "metadata": {
        "id": "ls1DTP58nX4G",
        "outputId": "2b024b07-391f-4717-c25f-59e675fdde41",
        "colab": {
          "base_uri": "https://localhost:8080/",
          "height": 68
        }
      },
      "source": [
        "# A note on zip()\n",
        "first_names = ['Adel', 'Sara', 'Lis']\n",
        "last_names = ['Nehme', 'Billen', 'Sulmont']\n",
        "\n",
        "# Zip iterables\n",
        "for first, last in zip(first_names, last_names):\n",
        "  print(first, last)"
      ],
      "execution_count": null,
      "outputs": [
        {
          "output_type": "stream",
          "text": [
            "Adel Nehme\n",
            "Sara Billen\n",
            "Lis Sulmont\n"
          ],
          "name": "stdout"
        }
      ]
    },
    {
      "cell_type": "markdown",
      "metadata": {
        "id": "Y2_Asnx7nZMx"
      },
      "source": [
        "When creating a `2x2` **figure** and programatically visualizing each survey response in each axes. It's good to note that when defining:\n",
        "\n",
        "`figure, axes = plt.subplots(2,2)` \n",
        "\n",
        "The `axes` object is a 2-d numpy array that looks like this\n",
        "\n",
        "```\n",
        "`print(axes)`\n",
        "\n",
        "[[<matplotlib.axes._subplots.AxesSubplot object at 0x7fd0a058acf8>\n",
        "  <matplotlib.axes._subplots.AxesSubplot object at 0x7fd0a053a748>]\n",
        " [<matplotlib.axes._subplots.AxesSubplot object at 0x7fd0a06dcd68>\n",
        "  <matplotlib.axes._subplots.AxesSubplot object at 0x7fd0a081f3c8>]]\n",
        "```\n",
        "\n",
        "To create a 1-d array, we use `.flatten()` like this:\n",
        "\n",
        "```\n",
        "print(axes.flatten())\n",
        "\n",
        "[<matplotlib.axes._subplots.AxesSubplot object at 0x7fd0a058acf8>\n",
        " <matplotlib.axes._subplots.AxesSubplot object at 0x7fd0a053a748>\n",
        " <matplotlib.axes._subplots.AxesSubplot object at 0x7fd0a06dcd68>\n",
        " <matplotlib.axes._subplots.AxesSubplot object at 0x7fd0a081f3c8>]\n",
        "```"
      ]
    },
    {
      "cell_type": "code",
      "metadata": {
        "id": "Q6Yi1OeBl3O5"
      },
      "source": [
        "# Create helper lists\n",
        "columns_to_plot = ['Age', \"DistanceFromHome\", 'YearsAtCompany', 'PercentSalaryHike']\n",
        "\n",
        "# Create figure with 2x2 subplots\n",
        "fig, axes = plt.subplots(2, 2, figsize=(22, 16))\n",
        "axes = axes.flatten()\n",
        "\n",
        "for column, ax in zip(columns_to_plot, axes):\n",
        "  \n",
        "  sns.boxplot()\n",
        "  \n",
        "  "
      ],
      "execution_count": null,
      "outputs": []
    },
    {
      "cell_type": "markdown",
      "metadata": {
        "id": "lu9s8-dE9Ke7"
      },
      "source": [
        "---\n",
        "<center><h1> Q&A 5</h1> </center>\n",
        "\n",
        "---"
      ]
    }
  ]
}
